{
 "cells": [
  {
   "cell_type": "markdown",
   "metadata": {},
   "source": [
    "# Principal Component Analysis with Regression Analysis"
   ]
  },
  {
   "cell_type": "code",
   "execution_count": 3,
   "metadata": {},
   "outputs": [],
   "source": [
    "#Load the required libraries\n",
    "\n",
    "import numpy as np\n",
    "import pandas as pd\n",
    "from sklearn.datasets import load_boston\n",
    "import matplotlib.pyplot as plt\n",
    "from sklearn.linear_model import LinearRegression\n",
    "from sklearn.metrics import r2_score, mean_squared_error\n",
    "from sklearn.model_selection import train_test_split\n",
    "from sklearn.preprocessing import scale"
   ]
  },
  {
   "cell_type": "code",
   "execution_count": 5,
   "metadata": {},
   "outputs": [
    {
     "data": {
      "text/plain": [
       "array([[-0.41978194,  0.28482986, -1.2879095 , ..., -1.45900038,\n",
       "         0.44105193, -1.0755623 ],\n",
       "       [-0.41733926, -0.48772236, -0.59338101, ..., -0.30309415,\n",
       "         0.44105193, -0.49243937],\n",
       "       [-0.41734159, -0.48772236, -0.59338101, ..., -0.30309415,\n",
       "         0.39642699, -1.2087274 ],\n",
       "       ...,\n",
       "       [-0.41344658, -0.48772236,  0.11573841, ...,  1.17646583,\n",
       "         0.44105193, -0.98304761],\n",
       "       [-0.40776407, -0.48772236,  0.11573841, ...,  1.17646583,\n",
       "         0.4032249 , -0.86530163],\n",
       "       [-0.41500016, -0.48772236,  0.11573841, ...,  1.17646583,\n",
       "         0.44105193, -0.66905833]])"
      ]
     },
     "execution_count": 5,
     "metadata": {},
     "output_type": "execute_result"
    }
   ],
   "source": [
    "#Use Boston dataset\n",
    "boston = load_boston()\n",
    "df = pd.DataFrame(data = boston.data)\n",
    "\n",
    "#Scale the data\n",
    "scaled = scale(df)\n",
    "scaled"
   ]
  },
  {
   "cell_type": "code",
   "execution_count": 18,
   "metadata": {},
   "outputs": [
    {
     "name": "stdout",
     "output_type": "stream",
     "text": [
      "\n",
      "Variance :  [6.1389812  1.43611329 1.2450773  0.85927328 0.83646904 0.65870897\n",
      " 0.5364162  0.39688167 0.27749173 0.22067394 0.18638271 0.16963823\n",
      " 0.06363502]\n",
      "\n",
      "Variance Ratio:  [0.47129606 0.11025193 0.0955859  0.06596732 0.06421661 0.05056978\n",
      " 0.04118124 0.03046902 0.02130333 0.01694137 0.0143088  0.01302331\n",
      " 0.00488533]\n"
     ]
    }
   ],
   "source": [
    "#Perform PCA without specifying the value of k. \n",
    "\n",
    "from sklearn.decomposition import PCA\n",
    "pca = PCA()\n",
    "pca.fit(scaled)\n",
    "\n",
    "#print('Components : ', pca.components_)\n",
    "print('\\nVariance : ', pca.explained_variance_ )\n",
    "print('\\nVariance Ratio: ', pca.explained_variance_ratio_)"
   ]
  },
  {
   "cell_type": "code",
   "execution_count": 19,
   "metadata": {},
   "outputs": [
    {
     "name": "stdout",
     "output_type": "stream",
     "text": [
      "\n",
      "Scree Plot ------>\n"
     ]
    },
    {
     "data": {
      "image/png": "[encoded data removed]",
      "text/plain": [
       "<Figure size 432x288 with 1 Axes>"
      ]
     },
     "metadata": {
      "needs_background": "light"
     },
     "output_type": "display_data"
    }
   ],
   "source": [
    "#Scree plot\n",
    "print('\\nScree Plot ------>')\n",
    "plt.plot(range(1,14), pca.explained_variance_)\n",
    "plt.xlabel('Number of clusters')\n",
    "plt.ylabel('Variance')\n",
    "plt.show()"
   ]
  },
  {
   "cell_type": "code",
   "execution_count": 21,
   "metadata": {},
   "outputs": [
    {
     "data": {
      "text/html": [
       "<div>\n",
       "<style scoped>\n",
       "    .dataframe tbody tr th:only-of-type {\n",
       "        vertical-align: middle;\n",
       "    }\n",
       "\n",
       "    .dataframe tbody tr th {\n",
       "        vertical-align: top;\n",
       "    }\n",
       "\n",
       "    .dataframe thead th {\n",
       "        text-align: right;\n",
       "    }\n",
       "</style>\n",
       "<table border=\"1\" class=\"dataframe\">\n",
       "  <thead>\n",
       "    <tr style=\"text-align: right;\">\n",
       "      <th></th>\n",
       "      <th>pca1</th>\n",
       "      <th>pca2</th>\n",
       "      <th>pca3</th>\n",
       "      <th>pca4</th>\n",
       "      <th>pred</th>\n",
       "    </tr>\n",
       "  </thead>\n",
       "  <tbody>\n",
       "    <tr>\n",
       "      <th>0</th>\n",
       "      <td>-2.098297</td>\n",
       "      <td>0.773113</td>\n",
       "      <td>0.342943</td>\n",
       "      <td>-0.891774</td>\n",
       "      <td>24.0</td>\n",
       "    </tr>\n",
       "    <tr>\n",
       "      <th>1</th>\n",
       "      <td>-1.457252</td>\n",
       "      <td>0.591985</td>\n",
       "      <td>-0.695199</td>\n",
       "      <td>-0.487459</td>\n",
       "      <td>21.6</td>\n",
       "    </tr>\n",
       "    <tr>\n",
       "      <th>2</th>\n",
       "      <td>-2.074598</td>\n",
       "      <td>0.599639</td>\n",
       "      <td>0.167122</td>\n",
       "      <td>-0.739204</td>\n",
       "      <td>34.7</td>\n",
       "    </tr>\n",
       "    <tr>\n",
       "      <th>3</th>\n",
       "      <td>-2.611504</td>\n",
       "      <td>-0.006871</td>\n",
       "      <td>-0.100284</td>\n",
       "      <td>-0.343721</td>\n",
       "      <td>33.4</td>\n",
       "    </tr>\n",
       "    <tr>\n",
       "      <th>4</th>\n",
       "      <td>-2.458185</td>\n",
       "      <td>0.097712</td>\n",
       "      <td>-0.075348</td>\n",
       "      <td>-0.427907</td>\n",
       "      <td>36.2</td>\n",
       "    </tr>\n",
       "  </tbody>\n",
       "</table>\n",
       "</div>"
      ],
      "text/plain": [
       "       pca1      pca2      pca3      pca4  pred\n",
       "0 -2.098297  0.773113  0.342943 -0.891774  24.0\n",
       "1 -1.457252  0.591985 -0.695199 -0.487459  21.6\n",
       "2 -2.074598  0.599639  0.167122 -0.739204  34.7\n",
       "3 -2.611504 -0.006871 -0.100284 -0.343721  33.4\n",
       "4 -2.458185  0.097712 -0.075348 -0.427907  36.2"
      ]
     },
     "execution_count": 21,
     "metadata": {},
     "output_type": "execute_result"
    }
   ],
   "source": [
    "#Apply k=4 on PCA after finding it from the Scree plot above\n",
    "\n",
    "pca_new = PCA(n_components=4)\n",
    "pca_new.fit(scaled)\n",
    "\n",
    "#Score (Projected values of PCA components)\n",
    "score = pca_new.fit_transform(scaled)\n",
    "\n",
    "#New dataframe that contain pca Components\n",
    "score_df = pd.DataFrame(data=score, columns = ['pca1', 'pca2', 'pca3', 'pca4'])\n",
    "score_df['pred'] = boston.target\n",
    "\n",
    "score_df.head()"
   ]
  },
  {
   "cell_type": "code",
   "execution_count": 32,
   "metadata": {},
   "outputs": [
    {
     "name": "stdout",
     "output_type": "stream",
     "text": [
      "RMSE before applying PCA :  5.866341999333012\n",
      "R square before applying PCA :  0.670933983911564\n"
     ]
    }
   ],
   "source": [
    "#Linear Regression Without PCA\n",
    "X_train, X_test, y_train, y_test = train_test_split(boston.data, boston.target, test_size = 0.2, random_state = 10)\n",
    "\n",
    "linearR = LinearRegression().fit(X_train, y_train)\n",
    "pred = linearR.predict(X_test)\n",
    "print('RMSE before applying PCA : ', np.sqrt(mean_squared_error(y_test, pred)))\n",
    "print('R square before applying PCA : ', r2_score(y_test, pred))"
   ]
  },
  {
   "cell_type": "code",
   "execution_count": 33,
   "metadata": {},
   "outputs": [
    {
     "name": "stdout",
     "output_type": "stream",
     "text": [
      "RMSE after applying PCA :  6.02596956367646\n",
      "R square after applying PCA :  0.6527820691798365\n"
     ]
    }
   ],
   "source": [
    "#Perform Linear Regression on the same after applying PCA\n",
    "\n",
    "X = score_df.loc[:,'pca1':'pca4']\n",
    "Y = score_df['pred']\n",
    "X_train, X_test, y_train, y_test = train_test_split(X, Y, test_size = 0.2, random_state = 10)\n",
    "\n",
    "linearR = LinearRegression().fit(X_train, y_train)\n",
    "pred = linearR.predict(X_test)\n",
    "\n",
    "print('RMSE after applying PCA : ', np.sqrt(mean_squared_error(y_test, pred)))\n",
    "print('R square after applying PCA : ', r2_score(y_test, pred))"
   ]
  },
  {
   "cell_type": "code",
   "execution_count": 34,
   "metadata": {},
   "outputs": [],
   "source": [
    "# PCA wasn't very useful on this dataset as it increased the RMSE value and decresed R squared value"
   ]
  }
 ],
 "metadata": {
  "kernelspec": {
   "display_name": "Python 3",
   "language": "python",
   "name": "python3"
  },
  "language_info": {
   "codemirror_mode": {
    "name": "ipython",
    "version": 3
   },
   "file_extension": ".py",
   "mimetype": "text/x-python",
   "name": "python",
   "nbconvert_exporter": "python",
   "pygments_lexer": "ipython3",
   "version": "3.7.3"
  }
 },
 "nbformat": 4,
 "nbformat_minor": 2
}
